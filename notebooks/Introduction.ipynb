{
 "cells": [
  {
   "cell_type": "markdown",
   "metadata": {},
   "source": [
    "# Programming and Database Fundamentals for Data Scientists - EAS503"
   ]
  },
  {
   "cell_type": "markdown",
   "metadata": {},
   "source": [
    "## Installing iPython (jupyter) notebook:\n",
    "\n",
    "Start by installing `Python 3`. Easiest way is to install `Anaconda Python`, which is a free and open source distribution of Python, consisting of many useful libraries.\n",
    "\n",
    "Follow the instructions at: [https://docs.continuum.io/anaconda/install/](https://docs.continuum.io/anaconda/install/)\n",
    "\n",
    "You can start IPython notebook by running\n",
    "\n",
    "```shell\n",
    "jupyter notebook\n",
    "```\n"
   ]
  },
  {
   "cell_type": "markdown",
   "metadata": {},
   "source": [
    "## Setting up sqlite database\n",
    "In this course we will use `sqlite` database. You can install the package `sqlite3` it on your system, following instructions here:\n",
    "[https://sqlite.org/index.html](https://sqlite.org/index.html) or if you need a GUI, go for [https://razorsql.com/features/sqlite_features.html](https://razorsql.com/features/sqlite_features.html).\n",
    "\n",
    "After this step, you should have a sqlite database running on your laptop.\n",
    "### Installing python bindings for mysql\n",
    "To be able to connect to the mysql database, you need to install the `sqlite3` python package that will let you connect to the database from within a python application. More information here:\n",
    "\n",
    "[https://docs.python.org/2/library/sqlite3.html](https://docs.python.org/2/library/sqlite3.html)\n",
    "\n",
    "In Unix-like environments (including MacOS), you can try:\n",
    "```shell\n",
    "pip install sqlite\n",
    "```\n",
    "or\n",
    "```shell\n",
    "conda install sqlite\n",
    "```\n",
    "Might need `sudo` privileges depending on your Python installation.\n"
   ]
  },
  {
   "cell_type": "markdown",
   "metadata": {},
   "source": [
    "## Demonstrating a simple data science pipeline.\n",
    "Data available from [Chicago Crime Data](https://data.cityofchicago.org/Public-Safety/Crimes-2001-to-present/ijzp-q8t2)\n",
    "\n",
    "Before starting to play with the Chicago data, you will need to import the data into your database. \n",
    "\n",
    "### Step 1: Getting the data\n",
    "Download the data from [here](https://www.cse.buffalo.edu/ubds/docs/chicago_crime_data.csv). This is only data for 2015 onwards. You can also download the full dataset here as well [here](https://www.cse.buffalo.edu/ubds/docs/chicago_crime_data_all.csv).\n",
    "\n",
    "### Step 2: Setting up the database\n",
    "Create a new database and the empty table using the lines below. "
   ]
  },
  {
   "cell_type": "code",
   "execution_count": 50,
   "metadata": {},
   "outputs": [],
   "source": [
    "conn = sqlite3.connect('/Users/chandola/Teaching/eascourse/scripts/eas503db.db')\n",
    "c = conn.cursor()\n",
    "\n",
    "c.execute('''create table `chicago_crime_data` (\n",
    "  ID mediumint(9),\n",
    "  Case_Number text,\n",
    "  Date varchar(32),\n",
    "  Block text,\n",
    "  IUCR text,\n",
    "  Primary_Type text,\n",
    "  Description text,\n",
    "  Location_Description text,\n",
    "  Arrest varchar(6),\n",
    "  Domestic varchar(6),\n",
    "  Beat text,\n",
    "  District text,\n",
    "  Ward int,\n",
    "  Community_Area text,\n",
    "  FBI_Code text,\n",
    "  X_Coordinate float,\n",
    "  Y_Coordinate float,\n",
    "  Year int(4),\n",
    "  Updated_On varchar(32),\n",
    "  Latitude float,\n",
    "  Longitude float,\n",
    "  Location varchar(64)\n",
    ");''')\n",
    "conn.commit()"
   ]
  },
  {
   "cell_type": "markdown",
   "metadata": {},
   "source": [
    "### Step 3: Importing data into the database."
   ]
  },
  {
   "cell_type": "code",
   "execution_count": 3,
   "metadata": {},
   "outputs": [],
   "source": [
    "import pandas as pd\n",
    "import numpy as np\n",
    "df = pd.read_csv('chicago_crime_data.csv',header=0)"
   ]
  },
  {
   "cell_type": "code",
   "execution_count": 52,
   "metadata": {},
   "outputs": [],
   "source": [
    "data = np.array(df)"
   ]
  },
  {
   "cell_type": "code",
   "execution_count": 53,
   "metadata": {},
   "outputs": [
    {
     "data": {
      "text/plain": [
       "<sqlite3.Cursor at 0x160560420>"
      ]
     },
     "execution_count": 53,
     "metadata": {},
     "output_type": "execute_result"
    }
   ],
   "source": [
    "c.executemany('INSERT INTO `chicago_crime_data` (ID,Case_Number,Date,Block,IUCR,Primary_Type,Description,Location_Description,Arrest,Domestic,Beat,District,Ward,Community_Area,FBI_Code,X_Coordinate,Y_Coordinate,Year,Updated_On,Latitude,Longitude,Location) VALUES (?,?,?,?,?,?,?,?,?,?,?,?,?,?,?,?,?,?,?,?,?,?);', data)"
   ]
  },
  {
   "cell_type": "code",
   "execution_count": 54,
   "metadata": {},
   "outputs": [],
   "source": [
    "conn.commit()"
   ]
  },
  {
   "cell_type": "markdown",
   "metadata": {},
   "source": [
    "### Let us start with a very simple query\n",
    "Get the total number of rows in the database"
   ]
  },
  {
   "cell_type": "code",
   "execution_count": 55,
   "metadata": {},
   "outputs": [],
   "source": [
    "res = c.execute('SELECT COUNT(*) FROM `chicago_crime_data`')"
   ]
  },
  {
   "cell_type": "code",
   "execution_count": 56,
   "metadata": {},
   "outputs": [
    {
     "name": "stdout",
     "output_type": "stream",
     "text": [
      "[(436264,)]\n"
     ]
    }
   ],
   "source": [
    "print(res.fetchall())"
   ]
  },
  {
   "cell_type": "markdown",
   "metadata": {},
   "source": [
    "### Doing more interesting things with SQL\n",
    "Which are the more crime ridden areas in Chicago since 2016?"
   ]
  },
  {
   "cell_type": "code",
   "execution_count": 67,
   "metadata": {},
   "outputs": [],
   "source": [
    "querystr = '''SELECT count(*) as cnt, District \n",
    "              FROM chicago_crime_data \n",
    "              WHERE strftime(Date) > strftime(\\'01/01/2016 00:00:00 AM\\') \n",
    "              GROUP BY District \n",
    "              ORDER BY cnt'''\n",
    "c = conn.cursor()\n",
    "res = c.execute(querystr)"
   ]
  },
  {
   "cell_type": "code",
   "execution_count": 68,
   "metadata": {},
   "outputs": [
    {
     "name": "stdout",
     "output_type": "stream",
     "text": [
      "(5, '31')\n",
      "(7108, '20')\n",
      "(12350, '24')\n",
      "(12546, '17')\n",
      "(13846, '22')\n",
      "(14826, '16')\n",
      "(16799, '14')\n",
      "(17883, '15')\n",
      "(18493, '2')\n",
      "(19176, '5')\n",
      "(19678, '19')\n",
      "(19999, '9')\n",
      "(20195, '3')\n",
      "(20344, '10')\n",
      "(22188, '18')\n",
      "(22449, '12')\n",
      "(23003, '7')\n",
      "(23175, '1')\n",
      "(23496, '25')\n",
      "(24144, '4')\n",
      "(26632, '6')\n",
      "(27914, '8')\n",
      "(30015, '11')\n"
     ]
    }
   ],
   "source": [
    "for row in c.fetchall():\n",
    "    print(row)"
   ]
  },
  {
   "cell_type": "markdown",
   "metadata": {},
   "source": [
    "### Zooming into Jefferson Park (District 11)\n",
    "\n",
    "<img width=\"250\" src='https://upload.wikimedia.org/wikipedia/commons/f/f8/US-IL-Chicago-CA11.svg'>"
   ]
  },
  {
   "cell_type": "code",
   "execution_count": 75,
   "metadata": {},
   "outputs": [],
   "source": [
    "querystr = '''SELECT count(*) as cnt, Primary_Type FROM chicago_crime_data \n",
    "              WHERE District = \"11\" \n",
    "              AND strftime(Date) > strftime(\\'01/01/2016 00:00:00 AM\\')  \n",
    "              GROUP BY Primary_Type \n",
    "              ORDER BY cnt'''\n",
    "c = conn.cursor()\n",
    "res = c.execute(querystr)"
   ]
  },
  {
   "cell_type": "code",
   "execution_count": 76,
   "metadata": {},
   "outputs": [
    {
     "name": "stdout",
     "output_type": "stream",
     "text": [
      "(1, 'NON - CRIMINAL')\n",
      "(1, 'NON-CRIMINAL')\n",
      "(1, 'NON-CRIMINAL (SUBJECT SPECIFIED)')\n",
      "(2, 'HUMAN TRAFFICKING')\n",
      "(2, 'PUBLIC INDECENCY')\n",
      "(3, 'CONCEALED CARRY LICENSE VIOLATION')\n",
      "(4, 'OBSCENITY')\n",
      "(11, 'INTIMIDATION')\n",
      "(12, 'STALKING')\n",
      "(18, 'LIQUOR LAW VIOLATION')\n",
      "(21, 'KIDNAPPING')\n",
      "(49, 'ARSON')\n",
      "(74, 'SEX OFFENSE')\n",
      "(86, 'GAMBLING')\n",
      "(144, 'HOMICIDE')\n",
      "(158, 'CRIM SEXUAL ASSAULT')\n",
      "(203, 'OFFENSE INVOLVING CHILDREN')\n",
      "(231, 'INTERFERENCE WITH PUBLIC OFFICER')\n",
      "(274, 'PUBLIC PEACE VIOLATION')\n",
      "(644, 'CRIMINAL TRESPASS')\n",
      "(720, 'WEAPONS VIOLATION')\n",
      "(745, 'PROSTITUTION')\n",
      "(788, 'BURGLARY')\n",
      "(849, 'DECEPTIVE PRACTICE')\n",
      "(1212, 'MOTOR VEHICLE THEFT')\n",
      "(1571, 'ROBBERY')\n",
      "(1768, 'OTHER OFFENSE')\n",
      "(2200, 'ASSAULT')\n",
      "(2825, 'CRIMINAL DAMAGE')\n",
      "(3327, 'THEFT')\n",
      "(5707, 'NARCOTICS')\n",
      "(6364, 'BATTERY')\n"
     ]
    }
   ],
   "source": [
    "for row in c.fetchall():\n",
    "    print(row)"
   ]
  },
  {
   "cell_type": "code",
   "execution_count": 80,
   "metadata": {},
   "outputs": [],
   "source": [
    "conn.close()"
   ]
  },
  {
   "cell_type": "markdown",
   "metadata": {},
   "source": [
    "### PYTHON Library PANDAS\n",
    "One can directly read data from the csv file into a Pandas object"
   ]
  },
  {
   "cell_type": "code",
   "execution_count": 4,
   "metadata": {},
   "outputs": [],
   "source": [
    "import pandas as pd"
   ]
  },
  {
   "cell_type": "code",
   "execution_count": 78,
   "metadata": {},
   "outputs": [],
   "source": [
    "df = pd.read_csv('chicago_crime_data.csv',header=0)"
   ]
  },
  {
   "cell_type": "code",
   "execution_count": 79,
   "metadata": {},
   "outputs": [
    {
     "data": {
      "text/html": [
       "<div>\n",
       "<style scoped>\n",
       "    .dataframe tbody tr th:only-of-type {\n",
       "        vertical-align: middle;\n",
       "    }\n",
       "\n",
       "    .dataframe tbody tr th {\n",
       "        vertical-align: top;\n",
       "    }\n",
       "\n",
       "    .dataframe thead th {\n",
       "        text-align: right;\n",
       "    }\n",
       "</style>\n",
       "<table border=\"1\" class=\"dataframe\">\n",
       "  <thead>\n",
       "    <tr style=\"text-align: right;\">\n",
       "      <th></th>\n",
       "      <th>ID</th>\n",
       "      <th>Case Number</th>\n",
       "      <th>Date</th>\n",
       "      <th>Block</th>\n",
       "      <th>IUCR</th>\n",
       "      <th>Primary Type</th>\n",
       "      <th>Description</th>\n",
       "      <th>Location Description</th>\n",
       "      <th>Arrest</th>\n",
       "      <th>Domestic</th>\n",
       "      <th>...</th>\n",
       "      <th>Ward</th>\n",
       "      <th>Community Area</th>\n",
       "      <th>FBI Code</th>\n",
       "      <th>X Coordinate</th>\n",
       "      <th>Y Coordinate</th>\n",
       "      <th>Year</th>\n",
       "      <th>Updated On</th>\n",
       "      <th>Latitude</th>\n",
       "      <th>Longitude</th>\n",
       "      <th>Location</th>\n",
       "    </tr>\n",
       "  </thead>\n",
       "  <tbody>\n",
       "    <tr>\n",
       "      <th>0</th>\n",
       "      <td>10496347</td>\n",
       "      <td>HZ237390</td>\n",
       "      <td>04/23/2016 04:55:00 PM</td>\n",
       "      <td>001XX N PARKSIDE AVE</td>\n",
       "      <td>1310</td>\n",
       "      <td>CRIMINAL DAMAGE</td>\n",
       "      <td>TO PROPERTY</td>\n",
       "      <td>APARTMENT</td>\n",
       "      <td>False</td>\n",
       "      <td>False</td>\n",
       "      <td>...</td>\n",
       "      <td>29.0</td>\n",
       "      <td>25</td>\n",
       "      <td>14</td>\n",
       "      <td>1138578.0</td>\n",
       "      <td>1900413.0</td>\n",
       "      <td>2016</td>\n",
       "      <td>04/30/2016 03:51:13 PM</td>\n",
       "      <td>41.882858</td>\n",
       "      <td>-87.766599</td>\n",
       "      <td>(41.88285803, -87.766599362)</td>\n",
       "    </tr>\n",
       "    <tr>\n",
       "      <th>1</th>\n",
       "      <td>10496348</td>\n",
       "      <td>HZ237355</td>\n",
       "      <td>04/23/2016 02:00:00 PM</td>\n",
       "      <td>0000X E RIVERWALK S</td>\n",
       "      <td>0820</td>\n",
       "      <td>THEFT</td>\n",
       "      <td>$500 AND UNDER</td>\n",
       "      <td>SIDEWALK</td>\n",
       "      <td>False</td>\n",
       "      <td>False</td>\n",
       "      <td>...</td>\n",
       "      <td>42.0</td>\n",
       "      <td>32</td>\n",
       "      <td>06</td>\n",
       "      <td>1176778.0</td>\n",
       "      <td>1902518.0</td>\n",
       "      <td>2016</td>\n",
       "      <td>04/30/2016 03:51:13 PM</td>\n",
       "      <td>41.887856</td>\n",
       "      <td>-87.626264</td>\n",
       "      <td>(41.887856357, -87.626264274)</td>\n",
       "    </tr>\n",
       "    <tr>\n",
       "      <th>2</th>\n",
       "      <td>10496349</td>\n",
       "      <td>HZ237341</td>\n",
       "      <td>04/23/2016 04:10:00 PM</td>\n",
       "      <td>003XX W 35TH ST</td>\n",
       "      <td>0495</td>\n",
       "      <td>BATTERY</td>\n",
       "      <td>AGGRAVATED OF A SENIOR CITIZEN</td>\n",
       "      <td>SPORTS ARENA/STADIUM</td>\n",
       "      <td>True</td>\n",
       "      <td>False</td>\n",
       "      <td>...</td>\n",
       "      <td>11.0</td>\n",
       "      <td>34</td>\n",
       "      <td>04B</td>\n",
       "      <td>1174431.0</td>\n",
       "      <td>1881739.0</td>\n",
       "      <td>2016</td>\n",
       "      <td>04/30/2016 03:51:13 PM</td>\n",
       "      <td>41.830890</td>\n",
       "      <td>-87.635503</td>\n",
       "      <td>(41.830890037, -87.635503335)</td>\n",
       "    </tr>\n",
       "    <tr>\n",
       "      <th>3</th>\n",
       "      <td>10496350</td>\n",
       "      <td>HZ237330</td>\n",
       "      <td>04/23/2016 01:30:00 PM</td>\n",
       "      <td>040XX N MAJOR AVE</td>\n",
       "      <td>031A</td>\n",
       "      <td>ROBBERY</td>\n",
       "      <td>ARMED: HANDGUN</td>\n",
       "      <td>ALLEY</td>\n",
       "      <td>False</td>\n",
       "      <td>False</td>\n",
       "      <td>...</td>\n",
       "      <td>38.0</td>\n",
       "      <td>15</td>\n",
       "      <td>03</td>\n",
       "      <td>1137626.0</td>\n",
       "      <td>1926291.0</td>\n",
       "      <td>2016</td>\n",
       "      <td>04/30/2016 03:51:13 PM</td>\n",
       "      <td>41.953887</td>\n",
       "      <td>-87.769470</td>\n",
       "      <td>(41.953887423, -87.76947041)</td>\n",
       "    </tr>\n",
       "    <tr>\n",
       "      <th>4</th>\n",
       "      <td>10496351</td>\n",
       "      <td>HZ237402</td>\n",
       "      <td>04/23/2016 04:45:00 PM</td>\n",
       "      <td>084XX S DREXEL AVE</td>\n",
       "      <td>2820</td>\n",
       "      <td>OTHER OFFENSE</td>\n",
       "      <td>TELEPHONE THREAT</td>\n",
       "      <td>RESIDENCE</td>\n",
       "      <td>False</td>\n",
       "      <td>True</td>\n",
       "      <td>...</td>\n",
       "      <td>8.0</td>\n",
       "      <td>44</td>\n",
       "      <td>26</td>\n",
       "      <td>1183692.0</td>\n",
       "      <td>1849271.0</td>\n",
       "      <td>2016</td>\n",
       "      <td>04/30/2016 03:51:13 PM</td>\n",
       "      <td>41.741584</td>\n",
       "      <td>-87.602537</td>\n",
       "      <td>(41.741583562, -87.602537135)</td>\n",
       "    </tr>\n",
       "  </tbody>\n",
       "</table>\n",
       "<p>5 rows × 22 columns</p>\n",
       "</div>"
      ],
      "text/plain": [
       "         ID Case Number                    Date                 Block  IUCR  \\\n",
       "0  10496347    HZ237390  04/23/2016 04:55:00 PM  001XX N PARKSIDE AVE  1310   \n",
       "1  10496348    HZ237355  04/23/2016 02:00:00 PM   0000X E RIVERWALK S  0820   \n",
       "2  10496349    HZ237341  04/23/2016 04:10:00 PM       003XX W 35TH ST  0495   \n",
       "3  10496350    HZ237330  04/23/2016 01:30:00 PM     040XX N MAJOR AVE  031A   \n",
       "4  10496351    HZ237402  04/23/2016 04:45:00 PM    084XX S DREXEL AVE  2820   \n",
       "\n",
       "      Primary Type                     Description  Location Description  \\\n",
       "0  CRIMINAL DAMAGE                     TO PROPERTY             APARTMENT   \n",
       "1            THEFT                  $500 AND UNDER              SIDEWALK   \n",
       "2          BATTERY  AGGRAVATED OF A SENIOR CITIZEN  SPORTS ARENA/STADIUM   \n",
       "3          ROBBERY                  ARMED: HANDGUN                 ALLEY   \n",
       "4    OTHER OFFENSE                TELEPHONE THREAT             RESIDENCE   \n",
       "\n",
       "   Arrest  Domestic  ...  Ward  Community Area  FBI Code  X Coordinate  \\\n",
       "0   False     False  ...  29.0              25        14     1138578.0   \n",
       "1   False     False  ...  42.0              32        06     1176778.0   \n",
       "2    True     False  ...  11.0              34       04B     1174431.0   \n",
       "3   False     False  ...  38.0              15        03     1137626.0   \n",
       "4   False      True  ...   8.0              44        26     1183692.0   \n",
       "\n",
       "  Y Coordinate  Year              Updated On   Latitude  Longitude  \\\n",
       "0    1900413.0  2016  04/30/2016 03:51:13 PM  41.882858 -87.766599   \n",
       "1    1902518.0  2016  04/30/2016 03:51:13 PM  41.887856 -87.626264   \n",
       "2    1881739.0  2016  04/30/2016 03:51:13 PM  41.830890 -87.635503   \n",
       "3    1926291.0  2016  04/30/2016 03:51:13 PM  41.953887 -87.769470   \n",
       "4    1849271.0  2016  04/30/2016 03:51:13 PM  41.741584 -87.602537   \n",
       "\n",
       "                        Location  \n",
       "0   (41.88285803, -87.766599362)  \n",
       "1  (41.887856357, -87.626264274)  \n",
       "2  (41.830890037, -87.635503335)  \n",
       "3   (41.953887423, -87.76947041)  \n",
       "4  (41.741583562, -87.602537135)  \n",
       "\n",
       "[5 rows x 22 columns]"
      ]
     },
     "execution_count": 79,
     "metadata": {},
     "output_type": "execute_result"
    }
   ],
   "source": [
    "df.head()"
   ]
  },
  {
   "cell_type": "markdown",
   "metadata": {
    "collapsed": true
   },
   "source": [
    "Many of the operations that can be done as SQL queries on the database, can also be done on a `Pandas` object. Then what is benefit of a database?\n",
    "\n",
    "## Measuring performance of a Python code\n",
    "Here we will focus on two types of performance metrics:\n",
    "#### Speed - time taken to run the code on the machine\n",
    "We will use a Python tool called `timeit` to measure the time. \n",
    "\n",
    "We will first define two `functions` (snippets of code that can be called repeatedly) to use `mysql` and `Pandas`"
   ]
  },
  {
   "cell_type": "code",
   "execution_count": 6,
   "metadata": {},
   "outputs": [],
   "source": [
    "def pd_performance():\n",
    "    df = pd.read_csv('/Users/chandola/Teaching/eascourse/data/chicago_crime_data.csv',header=0)\n",
    "    cnt = len(df.index)\n",
    "    \n",
    "def db_performance():\n",
    "    conn = sqlite3.connect('/Users/chandola/Teaching/eascourse/scripts/eas503db.db')\n",
    "    c = conn.cursor()\n",
    "    querystr = 'SELECT count(*) FROM chicago_crime_data'\n",
    "    c.execute(querystr)\n",
    "\n",
    "    for row in c.fetchall():\n",
    "        cnt = row\n",
    "    conn.close()"
   ]
  },
  {
   "cell_type": "code",
   "execution_count": 7,
   "metadata": {},
   "outputs": [
    {
     "name": "stdout",
     "output_type": "stream",
     "text": [
      "2.13 s ± 73.6 ms per loop (mean ± std. dev. of 7 runs, 1 loop each)\n"
     ]
    }
   ],
   "source": [
    "timeit pd_performance()"
   ]
  },
  {
   "cell_type": "code",
   "execution_count": 10,
   "metadata": {},
   "outputs": [
    {
     "name": "stdout",
     "output_type": "stream",
     "text": [
      "31.8 ms ± 1.06 ms per loop (mean ± std. dev. of 7 runs, 1 loop each)\n"
     ]
    }
   ],
   "source": [
    "timeit db_performance()"
   ]
  },
  {
   "cell_type": "markdown",
   "metadata": {},
   "source": [
    "#### Space - memory used to run the code on the machine\n",
    "We will use another Python tool called `memory_profiler` for this. For more see - https://pypi.org/project/memory_profiler/. Conda users may install the tool using:\n",
    "```shell\n",
    "conda install memory_profiler\n",
    "```\n",
    "\n",
    "Unfortunately, the `memory_profiler` does not support notebooks. So we will run these two codes from the command line."
   ]
  },
  {
   "cell_type": "code",
   "execution_count": 43,
   "metadata": {},
   "outputs": [],
   "source": [
    "import pandas as pd\n",
    "from memory_profiler import profile\n",
    "\n",
    "@profile\n",
    "def pd_performance():\n",
    "    df = pd.read_csv('chicago_crime_data.csv',header=0)\n",
    "    cnt = len(df.index)\n",
    "\n",
    "pd_performance()"
   ]
  },
  {
   "cell_type": "markdown",
   "metadata": {},
   "source": [
    "Save the above snippet into a file called `pd_demo.py`. Then run:\n",
    "```shell\n",
    "python -m memory_profiler pd_demo.py\n",
    "```"
   ]
  },
  {
   "cell_type": "code",
   "execution_count": null,
   "metadata": {},
   "outputs": [],
   "source": [
    "import sqlite3\n",
    "from memory_profiler import profile\n",
    "\n",
    "@profile\n",
    "def db_performance():\n",
    "    conn = sqlite3.connect('/Users/chandola/Teaching/eascourse/scripts/eas503db.db')\n",
    "    c = conn.cursor()\n",
    "    querystr = 'SELECT count(*) FROM chicago_crime_data'\n",
    "    c.execute(querystr)\n",
    "\n",
    "    for row in c.fetchall():\n",
    "        cnt = row\n",
    "    conn.close()"
   ]
  },
  {
   "cell_type": "markdown",
   "metadata": {},
   "source": [
    "Save the above snippet into a file called `db_demo.py`. Then run:\n",
    "```shell\n",
    "python -m memory_profiler db_demo.py\n",
    "```"
   ]
  },
  {
   "cell_type": "markdown",
   "metadata": {},
   "source": [
    "### Observations:\n",
    "The output of the `memory_profiler` gives us:\n",
    "\n",
    "For `pd_demo.py`:\n",
    "```\n",
    "Line #    Mem usage    Increment   Line Contents\n",
    "================================================\n",
    "     4     77.6 MiB     77.6 MiB   @profile\n",
    "     5                             def pd_performance():\n",
    "     6    270.0 MiB    192.4 MiB       df = pd.read_csv('chicago_crime_data.csv',header=0)\n",
    "     7    270.0 MiB      0.0 MiB       cnt = len(df.index)\n",
    "```\n",
    "\n",
    "For `db_demo.py`:\n",
    "```\n",
    "Line #    Mem usage    Increment   Line Contents\n",
    "================================================\n",
    "     4     49.5 MiB     49.5 MiB   @profile\n",
    "     5                             def db_performance():\n",
    "     6     49.5 MiB      0.0 MiB       db = pymysql.connect(host=\"127.0.0.1\",    # your host, usually localhost\n",
    "     7     49.5 MiB      0.0 MiB                        user=\"root\",         # your username\n",
    "     8     49.5 MiB      0.0 MiB                        passwd=\"root\",       # your password\n",
    "     9     49.7 MiB      0.2 MiB                        db=\"eas503db\")    # name of the data base\n",
    "    10     49.7 MiB      0.0 MiB       querystr = 'SELECT count(*) FROM chicago_crime_data'\n",
    "    11     49.7 MiB      0.0 MiB       cur = db.cursor()\n",
    "    12     49.7 MiB      0.0 MiB       cur.execute(querystr)\n",
    "    13                             \n",
    "    14     49.7 MiB      0.0 MiB       for row in cur.fetchall():\n",
    "    15     49.7 MiB      0.0 MiB           cnt = row\n",
    "    16     49.7 MiB      0.0 MiB       db.close()\n",
    "```\n",
    "\n",
    "Pulling data from the database is better, both in terms of memory usage and speed, than reading a file. Of course, this does not include the cost of the database itself. But, given that same database will be used over and over, and typically by many applications, that cost tends to be _amortized_."
   ]
  }
 ],
 "metadata": {
  "kernelspec": {
   "display_name": "Python 3",
   "language": "python",
   "name": "python3"
  },
  "language_info": {
   "codemirror_mode": {
    "name": "ipython",
    "version": 3
   },
   "file_extension": ".py",
   "mimetype": "text/x-python",
   "name": "python",
   "nbconvert_exporter": "python",
   "pygments_lexer": "ipython3",
   "version": "3.6.8"
  }
 },
 "nbformat": 4,
 "nbformat_minor": 1
}
